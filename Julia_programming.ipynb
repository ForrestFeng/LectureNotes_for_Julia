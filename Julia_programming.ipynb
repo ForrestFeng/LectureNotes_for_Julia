{
 "cells": [
  {
   "cell_type": "code",
   "execution_count": 5,
   "metadata": {},
   "outputs": [
    {
     "ename": "InexactError",
     "evalue": "InexactError: Real(3 + 2im)",
     "output_type": "error",
     "traceback": [
      "InexactError: Real(3 + 2im)",
      "",
      "Stacktrace:",
      " [1] Type at .\\complex.jl:37 [inlined]",
      " [2] convert(::Type{Real}, ::Complex{Int64}) at .\\number.jl:7",
      " [3] setproperty!(::FooC, ::Symbol, ::Complex{Int64}) at .\\Base.jl:21",
      " [4] top-level scope at In[5]:10"
     ]
    }
   ],
   "source": [
    "#         :: 限定只能是Pointy类型\n",
    "#         -> 条件函数 (匿名函数)\n",
    "#         ... 展开操作符\n",
    "#         => 键值对\n",
    "#         <: 数组\n",
    "#         函数! 表示函数修改了参数\n",
    "\n",
    "mutable struct FooC\n",
    "    a::Int32 \n",
    "    b::Real \n",
    "end\n",
    "\n",
    "w=FooC(1, 2);\n",
    "typeof(w.b)\n",
    "w.b = 3.2;\n",
    "typeof(w.b)\n"
   ]
  },
  {
   "cell_type": "code",
   "execution_count": 2,
   "metadata": {},
   "outputs": [
    {
     "name": "stdout",
     "output_type": "stream",
     "text": [
      "\u001b[32m\u001b[1mActivating\u001b[22m\u001b[39m new environment at `C:\\Users\\Sword\\JuliaProjects\\Project.toml`\n"
     ]
    }
   ],
   "source": [
    "import Pkg\n",
    "Pkg.activate(\".\")"
   ]
  },
  {
   "cell_type": "code",
   "execution_count": 8,
   "metadata": {},
   "outputs": [
    {
     "data": {
      "text/plain": [
       "true"
      ]
     },
     "execution_count": 8,
     "metadata": {},
     "output_type": "execute_result"
    }
   ],
   "source": [
    "Union{} <: Type"
   ]
  },
  {
   "cell_type": "code",
   "execution_count": 4,
   "metadata": {},
   "outputs": [
    {
     "data": {
      "text/plain": [
       "Tuple{Int64,String,Float64}"
      ]
     },
     "execution_count": 4,
     "metadata": {},
     "output_type": "execute_result"
    }
   ],
   "source": [
    "# 元素类型\n",
    "# typeof((1,\"foo\",2.5))\n",
    "1,\"foo\",2.5\n",
    "typeof(ans)\n"
   ]
  },
  {
   "cell_type": "code",
   "execution_count": 9,
   "metadata": {},
   "outputs": [
    {
     "data": {
      "text/plain": [
       "(1, 2, 10.5, \"abc\", 3, 4, 5, 6, 7, 7, 3)"
      ]
     },
     "execution_count": 9,
     "metadata": {},
     "output_type": "execute_result"
    }
   ],
   "source": [
    "# 元组展开\n",
    "(1, 2, (10.5,\"abc\",3,4,5,6,7,7)..., 3)"
   ]
  },
  {
   "cell_type": "code",
   "execution_count": 8,
   "metadata": {},
   "outputs": [
    {
     "data": {
      "text/plain": [
       "(1, 2, 10.5, \"abc\", 3, 4, 5, 6, 7, 7, 8, 2, 3)"
      ]
     },
     "execution_count": 8,
     "metadata": {},
     "output_type": "execute_result"
    }
   ],
   "source": [
    "a = (10.5,\"abc\",3,4,5,6,7,7,8,2)\n",
    "(1, 2, a..., 3)"
   ]
  },
  {
   "cell_type": "code",
   "execution_count": 13,
   "metadata": {},
   "outputs": [
    {
     "data": {
      "text/plain": [
       "(2, 10.5)"
      ]
     },
     "execution_count": 13,
     "metadata": {},
     "output_type": "execute_result"
    }
   ],
   "source": [
    "b=a[end],a[1]"
   ]
  },
  {
   "cell_type": "code",
   "execution_count": 27,
   "metadata": {},
   "outputs": [
    {
     "ename": "UndefVarError",
     "evalue": "UndefVarError: A not defined",
     "output_type": "error",
     "traceback": [
      "UndefVarError: A not defined",
      "",
      "Stacktrace:",
      " [1] top-level scope at In[27]:1"
     ]
    }
   ],
   "source": [
    "# 键值对\n",
    "Pair{A,B} <: Any\n",
    "    first::A\n",
    "    second::B"
   ]
  },
  {
   "cell_type": "code",
   "execution_count": 39,
   "metadata": {},
   "outputs": [
    {
     "name": "stdout",
     "output_type": "stream",
     "text": [
      "1 => 3.2\n",
      "1.0 => 5\n",
      "1\n",
      "1"
     ]
    }
   ],
   "source": [
    "Pair(1, 3.2)\n",
    "typeof(ans)\n",
    "\n",
    "a = 1=>3.2\n",
    "b = 1.0=>5\n",
    "print(a,\"\\n\")\n",
    "print(b,\"\\n\")\n",
    "print(a.first,\"\\n\")\n",
    "print(a[1])"
   ]
  },
  {
   "cell_type": "code",
   "execution_count": 56,
   "metadata": {},
   "outputs": [
    {
     "name": "stdout",
     "output_type": "stream",
     "text": [
      "[\"B\", \"A\"]\n",
      "[2, 1]\n",
      "B's value is 2\n",
      "A's value is 1\n"
     ]
    },
    {
     "data": {
      "text/plain": [
       "2-element Array{Int64,1}:\n",
       " 2\n",
       " 1"
      ]
     },
     "execution_count": 56,
     "metadata": {},
     "output_type": "execute_result"
    }
   ],
   "source": [
    "p = Dict(\"A\"=>1,\"B\"=>2)\n",
    "p[\"A\"]\n",
    "p[\"C\"] = 3\n",
    "get(p, \"B\", 1)\n",
    "get!(p,\"D\",5)\n",
    "delete!(p,\"D\")\n",
    "pop!(p,\"C\")\n",
    "length(p)\n",
    "p.count\n",
    "print(keys(p),\"\\n\")\n",
    "print(values(p),\"\\n\")\n",
    "for k in keys(p) \n",
    "    println(k, \"'s value is \", p[k])\n",
    "end\n",
    "print(collect(values(p)))"
   ]
  },
  {
   "cell_type": "code",
   "execution_count": 58,
   "metadata": {},
   "outputs": [
    {
     "name": "stdout",
     "output_type": "stream",
     "text": [
      "Set([4, 2, 3, 5, 1])\n",
      "Set([3, 1])\n",
      "Set([4, 2])"
     ]
    }
   ],
   "source": [
    "# 集合\n",
    "\n",
    "a = Set([1,2,3,4])\n",
    "b = Set([1,3,5])\n",
    "x = union(a,b)        #并集\n",
    "y = intersect(a,b)    #交集\n",
    "z = setdiff(a,b)      #补集，在 a中，但不在 b中\n",
    "print(x,\"\\n\",y,\"\\n\",z)\n"
   ]
  },
  {
   "cell_type": "code",
   "execution_count": 63,
   "metadata": {},
   "outputs": [
    {
     "data": {
      "text/plain": [
       "false"
      ]
     },
     "execution_count": 63,
     "metadata": {},
     "output_type": "execute_result"
    }
   ],
   "source": [
    "false & missing\n"
   ]
  },
  {
   "cell_type": "code",
   "execution_count": 65,
   "metadata": {},
   "outputs": [
    {
     "data": {
      "text/plain": [
       "15"
      ]
     },
     "execution_count": 65,
     "metadata": {},
     "output_type": "execute_result"
    }
   ],
   "source": [
    "#    函数\n",
    "addtwo(x, y) = x + y\n",
    "addtwo(5, 10)"
   ]
  },
  {
   "cell_type": "code",
   "execution_count": 67,
   "metadata": {},
   "outputs": [
    {
     "data": {
      "text/plain": [
       "10"
      ]
     },
     "execution_count": 67,
     "metadata": {},
     "output_type": "execute_result"
    }
   ],
   "source": [
    "x=10\n",
    "function change_value(y)\n",
    "    y=17\n",
    "end\n",
    "change_value(x)\n",
    "x"
   ]
  },
  {
   "cell_type": "code",
   "execution_count": 69,
   "metadata": {},
   "outputs": [
    {
     "ename": "UndefVarError",
     "evalue": "UndefVarError: f not defined",
     "output_type": "error",
     "traceback": [
      "UndefVarError: f not defined",
      "",
      "Stacktrace:",
      " [1] top-level scope at In[69]:1"
     ]
    }
   ],
   "source": [
    "methods(f)"
   ]
  },
  {
   "cell_type": "code",
   "execution_count": null,
   "metadata": {},
   "outputs": [],
   "source": []
  },
  {
   "cell_type": "code",
   "execution_count": 2,
   "metadata": {},
   "outputs": [],
   "source": [
    "struct FooA \n",
    "    a\n",
    "    b::Float64\n",
    "end"
   ]
  },
  {
   "cell_type": "code",
   "execution_count": 3,
   "metadata": {},
   "outputs": [
    {
     "ename": "UndefVarError",
     "evalue": "UndefVarError: b not defined",
     "output_type": "error",
     "traceback": [
      "UndefVarError: b not defined",
      "",
      "Stacktrace:",
      " [1] top-level scope at In[3]:1"
     ]
    }
   ],
   "source": [
    "FooA(a, b::Float64) \n",
    "FooA(a, b)"
   ]
  },
  {
   "cell_type": "code",
   "execution_count": 4,
   "metadata": {},
   "outputs": [
    {
     "data": {
      "text/plain": [
       "FooA"
      ]
     },
     "execution_count": 4,
     "metadata": {},
     "output_type": "execute_result"
    }
   ],
   "source": [
    "FooA(x::Float64) = FooA(x, x)"
   ]
  },
  {
   "cell_type": "code",
   "execution_count": 5,
   "metadata": {},
   "outputs": [
    {
     "data": {
      "text/plain": [
       "FooA(1.0, 1.0)"
      ]
     },
     "execution_count": 5,
     "metadata": {},
     "output_type": "execute_result"
    }
   ],
   "source": [
    "FooA(1.0)"
   ]
  },
  {
   "cell_type": "code",
   "execution_count": 6,
   "metadata": {},
   "outputs": [
    {
     "data": {
      "text/plain": [
       "FooA"
      ]
     },
     "execution_count": 6,
     "metadata": {},
     "output_type": "execute_result"
    }
   ],
   "source": [
    "FooA(x::T) where T<:Integer = FooA(2x, 3x+10.8)"
   ]
  },
  {
   "cell_type": "code",
   "execution_count": 7,
   "metadata": {},
   "outputs": [
    {
     "data": {
      "text/plain": [
       "FooA(2, 13.8)"
      ]
     },
     "execution_count": 7,
     "metadata": {},
     "output_type": "execute_result"
    }
   ],
   "source": [
    "FooA(1)"
   ]
  },
  {
   "cell_type": "code",
   "execution_count": 11,
   "metadata": {},
   "outputs": [
    {
     "data": {
      "text/html": [
       "6 methods for generic function <b>Type</b>:<ul><li> FooA() in Main at In[9]:1</li> <li> FooA(x::<b>Float64</b>) in Main at In[4]:1</li> <li> FooA(x::<b>T</b>)<i> where T<:Integer</i> in Main at In[6]:1</li> <li> FooA(m) in Main at In[9]:1</li> <li> FooA(a, b::<b>Float64</b>) in Main at In[2]:2</li> <li> FooA(m, n) in Main at In[9]:1</li> </ul>"
      ],
      "text/plain": [
       "# 6 methods for generic function \"(::Type)\":\n",
       "[1] FooA() in Main at In[9]:1\n",
       "[2] FooA(x::Float64) in Main at In[4]:1\n",
       "[3] FooA(x::T) where T<:Integer in Main at In[6]:1\n",
       "[4] FooA(m) in Main at In[9]:1\n",
       "[5] FooA(a, b::Float64) in Main at In[2]:2\n",
       "[6] FooA(m, n) in Main at In[9]:1"
      ]
     },
     "execution_count": 11,
     "metadata": {},
     "output_type": "execute_result"
    }
   ],
   "source": [
    "methods(FooA)"
   ]
  },
  {
   "cell_type": "code",
   "execution_count": 9,
   "metadata": {},
   "outputs": [
    {
     "data": {
      "text/plain": [
       "FooA"
      ]
     },
     "execution_count": 9,
     "metadata": {},
     "output_type": "execute_result"
    }
   ],
   "source": [
    "FooA(m=1.0, n=2.0) = FooA(m, n)"
   ]
  },
  {
   "cell_type": "code",
   "execution_count": 10,
   "metadata": {},
   "outputs": [
    {
     "data": {
      "text/plain": [
       "FooA(1.0, 2.0)"
      ]
     },
     "execution_count": 10,
     "metadata": {},
     "output_type": "execute_result"
    }
   ],
   "source": [
    "FooA()"
   ]
  },
  {
   "cell_type": "code",
   "execution_count": 12,
   "metadata": {},
   "outputs": [
    {
     "data": {
      "text/plain": [
       "2×3 Array{Float64,2}:\n",
       " 0.0           1.31038e-315  4.94066e-324\n",
       " 4.94066e-324  4.94066e-324  1.31038e-315"
      ]
     },
     "execution_count": 12,
     "metadata": {},
     "output_type": "execute_result"
    }
   ],
   "source": [
    "# 数组\n",
    "A = Array{Float64, 2}(undef, 2, 3)"
   ]
  },
  {
   "cell_type": "code",
   "execution_count": 17,
   "metadata": {},
   "outputs": [
    {
     "name": "stdout",
     "output_type": "stream",
     "text": [
      "Array{T,2} where T\n"
     ]
    },
    {
     "data": {
      "text/plain": [
       "Array{T,1} where T"
      ]
     },
     "execution_count": 17,
     "metadata": {},
     "output_type": "execute_result"
    }
   ],
   "source": [
    "print(Matrix,\"\\n\")\n",
    "Vector"
   ]
  },
  {
   "cell_type": "code",
   "execution_count": 33,
   "metadata": {},
   "outputs": [
    {
     "data": {
      "text/plain": [
       "9-element Array{Float64,1}:\n",
       " 1.1\n",
       " 2.0\n",
       " 3.0\n",
       " 4.0\n",
       " 1.0\n",
       " 2.0\n",
       " 3.0\n",
       " 4.0\n",
       " 6.0"
      ]
     },
     "execution_count": 33,
     "metadata": {},
     "output_type": "execute_result"
    }
   ],
   "source": [
    "[1.1,2,3,4,(1,2,3,4)...,6]"
   ]
  },
  {
   "cell_type": "code",
   "execution_count": 45,
   "metadata": {},
   "outputs": [
    {
     "data": {
      "text/plain": [
       "3×3 Array{Float64,2}:\n",
       " 1.1  2.0  3.0\n",
       " 1.0  2.0  4.0\n",
       " 1.0  4.0  6.0"
      ]
     },
     "execution_count": 45,
     "metadata": {},
     "output_type": "execute_result"
    }
   ],
   "source": [
    "[1.1 2 3 ;1 2 4;1 4 6]"
   ]
  },
  {
   "cell_type": "code",
   "execution_count": 46,
   "metadata": {},
   "outputs": [
    {
     "data": {
      "text/plain": [
       "1×4 Array{Int64,2}:\n",
       " 1  2  3  4"
      ]
     },
     "execution_count": 46,
     "metadata": {},
     "output_type": "execute_result"
    }
   ],
   "source": [
    "hcat(1, 2, 3, 4)"
   ]
  },
  {
   "cell_type": "code",
   "execution_count": 47,
   "metadata": {},
   "outputs": [
    {
     "data": {
      "text/plain": [
       "4-element Array{Int64,1}:\n",
       " 1\n",
       " 2\n",
       " 3\n",
       " 4"
      ]
     },
     "execution_count": 47,
     "metadata": {},
     "output_type": "execute_result"
    }
   ],
   "source": [
    "vcat(1, 2, 3, 4)"
   ]
  },
  {
   "cell_type": "code",
   "execution_count": 53,
   "metadata": {},
   "outputs": [
    {
     "data": {
      "text/plain": [
       "2×3 Array{Int64,2}:\n",
       " 1  2  3\n",
       " 4  5  6"
      ]
     },
     "execution_count": 53,
     "metadata": {},
     "output_type": "execute_result"
    }
   ],
   "source": [
    "hvcat(3, 1, 2, 3, 4, 5, 6)"
   ]
  },
  {
   "cell_type": "code",
   "execution_count": 63,
   "metadata": {},
   "outputs": [
    {
     "name": "stdout",
     "output_type": "stream",
     "text": [
      "[0 0 0 0 0; 0 0 0 0 0; 0 0 0 0 0; 0 0 0 0 0]\n",
      "[0.0 0.0 0.0; 0.0 0.0 0.0]\n",
      "Rational[1//1 1//1 1//1; 1//1 1//1 1//1]\n",
      "Bool[1 1 1; 1 1 1]\n",
      "[0.9497922573139952 0.39985710431393673 0.3239253566525422; 0.29956562280264043 0.3821455071569857 0.205685132343836]\n"
     ]
    }
   ],
   "source": [
    "A1 = zeros(Int64, 4,5)\n",
    "A2 = zeros(Float64, (2,3))\n",
    "B1 = ones(Rational, 2,3)\n",
    "B2 = trues((2,3))\n",
    "C1 = rand(Float64,2,3)\n",
    "# C2 = Array(UniformScaling{Float32}(1), 2, 3)\n",
    "print(A1,\"\\n\")\n",
    "print(A2,\"\\n\")\n",
    "print(B1,\"\\n\")\n",
    "print(B2,\"\\n\")\n",
    "print(C1,\"\\n\")\n",
    "# print(C2,\"\\n\")\n"
   ]
  },
  {
   "cell_type": "code",
   "execution_count": null,
   "metadata": {},
   "outputs": [],
   "source": [
    "A1 = zeros(Int64, 4,5)"
   ]
  },
  {
   "cell_type": "code",
   "execution_count": 70,
   "metadata": {},
   "outputs": [
    {
     "name": "stdout",
     "output_type": "stream",
     "text": [
      "123456"
     ]
    }
   ],
   "source": [
    "A=range(1, stop=6)\n",
    "foreach(print, A)"
   ]
  },
  {
   "cell_type": "code",
   "execution_count": 72,
   "metadata": {},
   "outputs": [
    {
     "name": "stdout",
     "output_type": "stream",
     "text": [
      "UnitRange{Int64}\n",
      "  start: Int64 1\n",
      "  stop: Int64 3\n"
     ]
    }
   ],
   "source": [
    "dump(1:3)   #dump查看内部结构"
   ]
  },
  {
   "cell_type": "code",
   "execution_count": 81,
   "metadata": {},
   "outputs": [
    {
     "data": {
      "text/plain": [
       "2-element Array{Float64,1}:\n",
       " 0.21389745622402329\n",
       " 0.5329799123590335 "
      ]
     },
     "execution_count": 81,
     "metadata": {},
     "output_type": "execute_result"
    }
   ],
   "source": [
    "V = rand(4)\n",
    "[ 0.25*V[i-1] + 0.5*V[i] + 0.25*V[i+1] for i=2:length(V)-1 ]\n"
   ]
  },
  {
   "cell_type": "code",
   "execution_count": 93,
   "metadata": {},
   "outputs": [
    {
     "data": {
      "text/plain": [
       "4-element Array{Int64,1}:\n",
       " 27\n",
       " 32\n",
       " 35\n",
       " 36"
      ]
     },
     "execution_count": 93,
     "metadata": {},
     "output_type": "execute_result"
    }
   ],
   "source": [
    "[i*j for i=1:9 for j=i:9 if i+j==12]"
   ]
  },
  {
   "cell_type": "code",
   "execution_count": 96,
   "metadata": {},
   "outputs": [
    {
     "name": "stdout",
     "output_type": "stream",
     "text": [
      "  0.052617 seconds (127.25 k allocations: 5.860 MiB)\n"
     ]
    },
    {
     "data": {
      "text/plain": [
       "2×4×3 Array{Float64,3}:\n",
       "[:, :, 1] =\n",
       " 3.7  5.7   7.7   9.7\n",
       " 6.7  8.7  10.7  12.7\n",
       "\n",
       "[:, :, 2] =\n",
       " 2.4  4.4  6.4   8.4\n",
       " 5.4  7.4  9.4  11.4\n",
       "\n",
       "[:, :, 3] =\n",
       " 1.1  3.1  5.1   7.1\n",
       " 4.1  6.1  8.1  10.1"
      ]
     },
     "execution_count": 96,
     "metadata": {},
     "output_type": "execute_result"
    }
   ],
   "source": [
    "@time [i^2+2j-1.3z for i=1:2,j∈2:5, z in 1:3]"
   ]
  },
  {
   "cell_type": "code",
   "execution_count": 94,
   "metadata": {},
   "outputs": [
    {
     "name": "stdout",
     "output_type": "stream",
     "text": [
      "  0.023966 seconds (61.11 k allocations: 3.157 MiB)\n"
     ]
    },
    {
     "data": {
      "text/plain": [
       "1.6349839001848923"
      ]
     },
     "execution_count": 94,
     "metadata": {},
     "output_type": "execute_result"
    }
   ],
   "source": [
    "@time sum(1/n^2 for n=1:100)"
   ]
  },
  {
   "cell_type": "code",
   "execution_count": 106,
   "metadata": {},
   "outputs": [
    {
     "name": "stdout",
     "output_type": "stream",
     "text": [
      "6,5,4,3,2,1,"
     ]
    }
   ],
   "source": [
    "a=[1,2,3,4,5,6,7]\n",
    "for i in range(1,stop=length(a)-1)\n",
    "    print(a[end-i],\",\")\n",
    "end"
   ]
  },
  {
   "cell_type": "code",
   "execution_count": 107,
   "metadata": {},
   "outputs": [
    {
     "data": {
      "text/plain": [
       "3×4×2×2 Array{Float64,4}:\n",
       "[:, :, 1, 1] =\n",
       " 0.707031  0.927139  0.546423  0.982169\n",
       " 0.275604  0.361631  0.548126  0.568048\n",
       " 0.370099  0.50345   0.262378  0.887629\n",
       "\n",
       "[:, :, 2, 1] =\n",
       " 0.501684  0.065994  0.0975279  0.393849\n",
       " 0.471877  0.999381  0.675675   0.196134\n",
       " 0.165698  0.536776  0.0147433  0.357985\n",
       "\n",
       "[:, :, 1, 2] =\n",
       " 0.103467  0.681294  0.226992  0.722399  \n",
       " 0.710186  0.902976  0.28594   0.659466  \n",
       " 0.232468  0.926562  0.493048  0.00733013\n",
       "\n",
       "[:, :, 2, 2] =\n",
       " 0.584286  0.335218   0.231128  0.581232\n",
       " 0.910883  0.33525    0.123369  0.196762\n",
       " 0.627283  0.0512738  0.262244  0.314743"
      ]
     },
     "execution_count": 107,
     "metadata": {},
     "output_type": "execute_result"
    }
   ],
   "source": [
    "d = rand(3,4,2,2)"
   ]
  },
  {
   "cell_type": "code",
   "execution_count": 112,
   "metadata": {},
   "outputs": [
    {
     "name": "stdout",
     "output_type": "stream",
     "text": [
      "0.10346652228802444\n"
     ]
    },
    {
     "data": {
      "text/plain": [
       "0.10346652228802444"
      ]
     },
     "execution_count": 112,
     "metadata": {},
     "output_type": "execute_result"
    }
   ],
   "source": [
    "print(d[1, 1, 1, 2],\"\\n\")\n",
    "i = CartesianIndex(1, 1, 1, 2)\n",
    "d[i]                               #访问高纬数组"
   ]
  },
  {
   "cell_type": "code",
   "execution_count": null,
   "metadata": {},
   "outputs": [],
   "source": []
  },
  {
   "cell_type": "code",
   "execution_count": null,
   "metadata": {},
   "outputs": [],
   "source": []
  },
  {
   "cell_type": "code",
   "execution_count": null,
   "metadata": {},
   "outputs": [],
   "source": []
  },
  {
   "cell_type": "code",
   "execution_count": null,
   "metadata": {},
   "outputs": [],
   "source": []
  },
  {
   "cell_type": "code",
   "execution_count": null,
   "metadata": {},
   "outputs": [],
   "source": []
  },
  {
   "cell_type": "code",
   "execution_count": null,
   "metadata": {},
   "outputs": [],
   "source": []
  },
  {
   "cell_type": "code",
   "execution_count": null,
   "metadata": {},
   "outputs": [],
   "source": []
  },
  {
   "cell_type": "code",
   "execution_count": null,
   "metadata": {},
   "outputs": [],
   "source": []
  },
  {
   "cell_type": "code",
   "execution_count": null,
   "metadata": {},
   "outputs": [],
   "source": []
  },
  {
   "cell_type": "code",
   "execution_count": null,
   "metadata": {},
   "outputs": [],
   "source": []
  },
  {
   "cell_type": "code",
   "execution_count": null,
   "metadata": {},
   "outputs": [],
   "source": []
  },
  {
   "cell_type": "code",
   "execution_count": null,
   "metadata": {},
   "outputs": [],
   "source": []
  },
  {
   "cell_type": "code",
   "execution_count": null,
   "metadata": {},
   "outputs": [],
   "source": []
  },
  {
   "cell_type": "code",
   "execution_count": null,
   "metadata": {},
   "outputs": [],
   "source": []
  },
  {
   "cell_type": "code",
   "execution_count": null,
   "metadata": {},
   "outputs": [],
   "source": []
  },
  {
   "cell_type": "code",
   "execution_count": null,
   "metadata": {},
   "outputs": [],
   "source": []
  },
  {
   "cell_type": "code",
   "execution_count": null,
   "metadata": {},
   "outputs": [],
   "source": []
  },
  {
   "cell_type": "code",
   "execution_count": null,
   "metadata": {},
   "outputs": [],
   "source": []
  },
  {
   "cell_type": "code",
   "execution_count": null,
   "metadata": {},
   "outputs": [],
   "source": []
  },
  {
   "cell_type": "code",
   "execution_count": null,
   "metadata": {},
   "outputs": [],
   "source": []
  },
  {
   "cell_type": "code",
   "execution_count": null,
   "metadata": {},
   "outputs": [],
   "source": []
  },
  {
   "cell_type": "code",
   "execution_count": null,
   "metadata": {},
   "outputs": [],
   "source": []
  },
  {
   "cell_type": "code",
   "execution_count": null,
   "metadata": {},
   "outputs": [],
   "source": []
  },
  {
   "cell_type": "code",
   "execution_count": null,
   "metadata": {},
   "outputs": [],
   "source": []
  },
  {
   "cell_type": "code",
   "execution_count": null,
   "metadata": {},
   "outputs": [],
   "source": []
  },
  {
   "cell_type": "code",
   "execution_count": null,
   "metadata": {},
   "outputs": [],
   "source": []
  },
  {
   "cell_type": "code",
   "execution_count": null,
   "metadata": {},
   "outputs": [],
   "source": []
  },
  {
   "cell_type": "code",
   "execution_count": null,
   "metadata": {},
   "outputs": [],
   "source": []
  }
 ],
 "metadata": {
  "kernelspec": {
   "display_name": "Julia 1.2.0",
   "language": "julia",
   "name": "julia-1.2"
  },
  "language_info": {
   "file_extension": ".jl",
   "mimetype": "application/julia",
   "name": "julia",
   "version": "1.2.0"
  }
 },
 "nbformat": 4,
 "nbformat_minor": 2
}
